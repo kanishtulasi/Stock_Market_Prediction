{
  "nbformat": 4,
  "nbformat_minor": 0,
  "metadata": {
    "colab": {
      "provenance": []
    },
    "kernelspec": {
      "name": "python3",
      "display_name": "Python 3"
    },
    "language_info": {
      "name": "python"
    }
  },
  "cells": [
    {
      "cell_type": "code",
      "execution_count": 1,
      "metadata": {
        "id": "P-xwmB9zzFLP"
      },
      "outputs": [],
      "source": [
        "#Import libraries\n",
        "import os\n",
        "import numpy as np\n",
        "import pandas as pd\n",
        "import matplotlib.pyplot as plt\n",
        "%matplotlib inline"
      ]
    },
    {
      "cell_type": "code",
      "source": [
        "dataset_train = pd.read_csv(\"Google_Stock_Price_Train.csv\")\n",
        "dataset_train.head()"
      ],
      "metadata": {
        "colab": {
          "base_uri": "https://localhost:8080/",
          "height": 206
        },
        "id": "zWhCDU2NzNUg",
        "outputId": "9fbc0125-8292-40a8-cdce-6f534ec90228"
      },
      "execution_count": 2,
      "outputs": [
        {
          "output_type": "execute_result",
          "data": {
            "text/plain": [
              "       Date    Open    High     Low   Close      Volume\n",
              "0  1/3/2012  325.25  332.83  324.97  663.59   7,380,500\n",
              "1  1/4/2012  331.27  333.87  329.08  666.45   5,749,400\n",
              "2  1/5/2012  329.83  330.75  326.89  657.21   6,590,300\n",
              "3  1/6/2012  328.34  328.77  323.68  648.24   5,405,900\n",
              "4  1/9/2012  322.04  322.29  309.46  620.76  11,688,800"
            ],
            "text/html": [
              "\n",
              "  <div id=\"df-4856d8d2-5801-49a3-9673-08e0b5d60f18\" class=\"colab-df-container\">\n",
              "    <div>\n",
              "<style scoped>\n",
              "    .dataframe tbody tr th:only-of-type {\n",
              "        vertical-align: middle;\n",
              "    }\n",
              "\n",
              "    .dataframe tbody tr th {\n",
              "        vertical-align: top;\n",
              "    }\n",
              "\n",
              "    .dataframe thead th {\n",
              "        text-align: right;\n",
              "    }\n",
              "</style>\n",
              "<table border=\"1\" class=\"dataframe\">\n",
              "  <thead>\n",
              "    <tr style=\"text-align: right;\">\n",
              "      <th></th>\n",
              "      <th>Date</th>\n",
              "      <th>Open</th>\n",
              "      <th>High</th>\n",
              "      <th>Low</th>\n",
              "      <th>Close</th>\n",
              "      <th>Volume</th>\n",
              "    </tr>\n",
              "  </thead>\n",
              "  <tbody>\n",
              "    <tr>\n",
              "      <th>0</th>\n",
              "      <td>1/3/2012</td>\n",
              "      <td>325.25</td>\n",
              "      <td>332.83</td>\n",
              "      <td>324.97</td>\n",
              "      <td>663.59</td>\n",
              "      <td>7,380,500</td>\n",
              "    </tr>\n",
              "    <tr>\n",
              "      <th>1</th>\n",
              "      <td>1/4/2012</td>\n",
              "      <td>331.27</td>\n",
              "      <td>333.87</td>\n",
              "      <td>329.08</td>\n",
              "      <td>666.45</td>\n",
              "      <td>5,749,400</td>\n",
              "    </tr>\n",
              "    <tr>\n",
              "      <th>2</th>\n",
              "      <td>1/5/2012</td>\n",
              "      <td>329.83</td>\n",
              "      <td>330.75</td>\n",
              "      <td>326.89</td>\n",
              "      <td>657.21</td>\n",
              "      <td>6,590,300</td>\n",
              "    </tr>\n",
              "    <tr>\n",
              "      <th>3</th>\n",
              "      <td>1/6/2012</td>\n",
              "      <td>328.34</td>\n",
              "      <td>328.77</td>\n",
              "      <td>323.68</td>\n",
              "      <td>648.24</td>\n",
              "      <td>5,405,900</td>\n",
              "    </tr>\n",
              "    <tr>\n",
              "      <th>4</th>\n",
              "      <td>1/9/2012</td>\n",
              "      <td>322.04</td>\n",
              "      <td>322.29</td>\n",
              "      <td>309.46</td>\n",
              "      <td>620.76</td>\n",
              "      <td>11,688,800</td>\n",
              "    </tr>\n",
              "  </tbody>\n",
              "</table>\n",
              "</div>\n",
              "    <div class=\"colab-df-buttons\">\n",
              "\n",
              "  <div class=\"colab-df-container\">\n",
              "    <button class=\"colab-df-convert\" onclick=\"convertToInteractive('df-4856d8d2-5801-49a3-9673-08e0b5d60f18')\"\n",
              "            title=\"Convert this dataframe to an interactive table.\"\n",
              "            style=\"display:none;\">\n",
              "\n",
              "  <svg xmlns=\"http://www.w3.org/2000/svg\" height=\"24px\" viewBox=\"0 -960 960 960\">\n",
              "    <path d=\"M120-120v-720h720v720H120Zm60-500h600v-160H180v160Zm220 220h160v-160H400v160Zm0 220h160v-160H400v160ZM180-400h160v-160H180v160Zm440 0h160v-160H620v160ZM180-180h160v-160H180v160Zm440 0h160v-160H620v160Z\"/>\n",
              "  </svg>\n",
              "    </button>\n",
              "\n",
              "  <style>\n",
              "    .colab-df-container {\n",
              "      display:flex;\n",
              "      gap: 12px;\n",
              "    }\n",
              "\n",
              "    .colab-df-convert {\n",
              "      background-color: #E8F0FE;\n",
              "      border: none;\n",
              "      border-radius: 50%;\n",
              "      cursor: pointer;\n",
              "      display: none;\n",
              "      fill: #1967D2;\n",
              "      height: 32px;\n",
              "      padding: 0 0 0 0;\n",
              "      width: 32px;\n",
              "    }\n",
              "\n",
              "    .colab-df-convert:hover {\n",
              "      background-color: #E2EBFA;\n",
              "      box-shadow: 0px 1px 2px rgba(60, 64, 67, 0.3), 0px 1px 3px 1px rgba(60, 64, 67, 0.15);\n",
              "      fill: #174EA6;\n",
              "    }\n",
              "\n",
              "    .colab-df-buttons div {\n",
              "      margin-bottom: 4px;\n",
              "    }\n",
              "\n",
              "    [theme=dark] .colab-df-convert {\n",
              "      background-color: #3B4455;\n",
              "      fill: #D2E3FC;\n",
              "    }\n",
              "\n",
              "    [theme=dark] .colab-df-convert:hover {\n",
              "      background-color: #434B5C;\n",
              "      box-shadow: 0px 1px 3px 1px rgba(0, 0, 0, 0.15);\n",
              "      filter: drop-shadow(0px 1px 2px rgba(0, 0, 0, 0.3));\n",
              "      fill: #FFFFFF;\n",
              "    }\n",
              "  </style>\n",
              "\n",
              "    <script>\n",
              "      const buttonEl =\n",
              "        document.querySelector('#df-4856d8d2-5801-49a3-9673-08e0b5d60f18 button.colab-df-convert');\n",
              "      buttonEl.style.display =\n",
              "        google.colab.kernel.accessAllowed ? 'block' : 'none';\n",
              "\n",
              "      async function convertToInteractive(key) {\n",
              "        const element = document.querySelector('#df-4856d8d2-5801-49a3-9673-08e0b5d60f18');\n",
              "        const dataTable =\n",
              "          await google.colab.kernel.invokeFunction('convertToInteractive',\n",
              "                                                    [key], {});\n",
              "        if (!dataTable) return;\n",
              "\n",
              "        const docLinkHtml = 'Like what you see? Visit the ' +\n",
              "          '<a target=\"_blank\" href=https://colab.research.google.com/notebooks/data_table.ipynb>data table notebook</a>'\n",
              "          + ' to learn more about interactive tables.';\n",
              "        element.innerHTML = '';\n",
              "        dataTable['output_type'] = 'display_data';\n",
              "        await google.colab.output.renderOutput(dataTable, element);\n",
              "        const docLink = document.createElement('div');\n",
              "        docLink.innerHTML = docLinkHtml;\n",
              "        element.appendChild(docLink);\n",
              "      }\n",
              "    </script>\n",
              "  </div>\n",
              "\n",
              "\n",
              "<div id=\"df-95082df6-7f97-4ef7-ae05-88fc41f70252\">\n",
              "  <button class=\"colab-df-quickchart\" onclick=\"quickchart('df-95082df6-7f97-4ef7-ae05-88fc41f70252')\"\n",
              "            title=\"Suggest charts.\"\n",
              "            style=\"display:none;\">\n",
              "\n",
              "<svg xmlns=\"http://www.w3.org/2000/svg\" height=\"24px\"viewBox=\"0 0 24 24\"\n",
              "     width=\"24px\">\n",
              "    <g>\n",
              "        <path d=\"M19 3H5c-1.1 0-2 .9-2 2v14c0 1.1.9 2 2 2h14c1.1 0 2-.9 2-2V5c0-1.1-.9-2-2-2zM9 17H7v-7h2v7zm4 0h-2V7h2v10zm4 0h-2v-4h2v4z\"/>\n",
              "    </g>\n",
              "</svg>\n",
              "  </button>\n",
              "\n",
              "<style>\n",
              "  .colab-df-quickchart {\n",
              "    background-color: #E8F0FE;\n",
              "    border: none;\n",
              "    border-radius: 50%;\n",
              "    cursor: pointer;\n",
              "    display: none;\n",
              "    fill: #1967D2;\n",
              "    height: 32px;\n",
              "    padding: 0 0 0 0;\n",
              "    width: 32px;\n",
              "  }\n",
              "\n",
              "  .colab-df-quickchart:hover {\n",
              "    background-color: #E2EBFA;\n",
              "    box-shadow: 0px 1px 2px rgba(60, 64, 67, 0.3), 0px 1px 3px 1px rgba(60, 64, 67, 0.15);\n",
              "    fill: #174EA6;\n",
              "  }\n",
              "\n",
              "  [theme=dark] .colab-df-quickchart {\n",
              "    background-color: #3B4455;\n",
              "    fill: #D2E3FC;\n",
              "  }\n",
              "\n",
              "  [theme=dark] .colab-df-quickchart:hover {\n",
              "    background-color: #434B5C;\n",
              "    box-shadow: 0px 1px 3px 1px rgba(0, 0, 0, 0.15);\n",
              "    filter: drop-shadow(0px 1px 2px rgba(0, 0, 0, 0.3));\n",
              "    fill: #FFFFFF;\n",
              "  }\n",
              "</style>\n",
              "\n",
              "  <script>\n",
              "    async function quickchart(key) {\n",
              "      const charts = await google.colab.kernel.invokeFunction(\n",
              "          'suggestCharts', [key], {});\n",
              "    }\n",
              "    (() => {\n",
              "      let quickchartButtonEl =\n",
              "        document.querySelector('#df-95082df6-7f97-4ef7-ae05-88fc41f70252 button');\n",
              "      quickchartButtonEl.style.display =\n",
              "        google.colab.kernel.accessAllowed ? 'block' : 'none';\n",
              "    })();\n",
              "  </script>\n",
              "</div>\n",
              "    </div>\n",
              "  </div>\n"
            ]
          },
          "metadata": {},
          "execution_count": 2
        }
      ]
    },
    {
      "cell_type": "code",
      "source": [
        "training_set = dataset_train.iloc[:,1:2].values\n",
        "print(training_set)\n",
        "print (training_set.shape)"
      ],
      "metadata": {
        "colab": {
          "base_uri": "https://localhost:8080/"
        },
        "id": "cgbceJ_lzhlT",
        "outputId": "3617c604-47f1-409e-acb6-41a5761d3189"
      },
      "execution_count": 3,
      "outputs": [
        {
          "output_type": "stream",
          "name": "stdout",
          "text": [
            "[[325.25]\n",
            " [331.27]\n",
            " [329.83]\n",
            " ...\n",
            " [793.7 ]\n",
            " [783.33]\n",
            " [782.75]]\n",
            "(1258, 1)\n"
          ]
        }
      ]
    },
    {
      "cell_type": "code",
      "source": [
        "from sklearn.preprocessing import MinMaxScaler\n",
        "scaler = MinMaxScaler(feature_range = (0,1))\n",
        "scaled_training_set = scaler.fit_transform(training_set)\n",
        "scaled_training_set"
      ],
      "metadata": {
        "colab": {
          "base_uri": "https://localhost:8080/"
        },
        "id": "v81B5LZXzoNV",
        "outputId": "1f97bba7-c9e6-4d4a-c61e-e3f365cb8fea"
      },
      "execution_count": 4,
      "outputs": [
        {
          "output_type": "execute_result",
          "data": {
            "text/plain": [
              "array([[0.08581368],\n",
              "       [0.09701243],\n",
              "       [0.09433366],\n",
              "       ...,\n",
              "       [0.95725128],\n",
              "       [0.93796041],\n",
              "       [0.93688146]])"
            ]
          },
          "metadata": {},
          "execution_count": 4
        }
      ]
    },
    {
      "cell_type": "code",
      "source": [
        "X_train = []\n",
        "y_train = []\n",
        "for i in range (60,1258):\n",
        "   X_train.append(scaled_training_set[i-60:i, 0])\n",
        "   y_train.append(scaled_training_set[i, 0])\n",
        "X_train = np.array (X_train)\n",
        "y_train = np.array (y_train)\n",
        ""
      ],
      "metadata": {
        "id": "RIVWsweVzvbb"
      },
      "execution_count": 11,
      "outputs": []
    },
    {
      "cell_type": "code",
      "source": [
        "print(X_train.shape)\n",
        "print(y_train.shape)"
      ],
      "metadata": {
        "colab": {
          "base_uri": "https://localhost:8080/"
        },
        "id": "_weTRhep0nqa",
        "outputId": "c4ad107a-c8b6-4e8b-95a8-301f5b16007d"
      },
      "execution_count": 12,
      "outputs": [
        {
          "output_type": "stream",
          "name": "stdout",
          "text": [
            "(1198, 60)\n",
            "(1198,)\n"
          ]
        }
      ]
    },
    {
      "cell_type": "code",
      "source": [
        "X_train = np.reshape (X_train, (X_train.shape[0], X_train.shape[1], 1))\n",
        "X_train.shape"
      ],
      "metadata": {
        "colab": {
          "base_uri": "https://localhost:8080/"
        },
        "id": "N5pq8PeV0u20",
        "outputId": "de8789a7-693a-462b-f517-3f3cea4c8430"
      },
      "execution_count": 13,
      "outputs": [
        {
          "output_type": "execute_result",
          "data": {
            "text/plain": [
              "(1198, 60, 1)"
            ]
          },
          "metadata": {},
          "execution_count": 13
        }
      ]
    },
    {
      "cell_type": "code",
      "source": [
        "from keras.models import Sequential\n",
        "from keras.layers import LSTM\n",
        "from keras.layers import Dense\n",
        "from keras.layers import Dropout"
      ],
      "metadata": {
        "id": "Msm8jLdq03oQ"
      },
      "execution_count": 14,
      "outputs": []
    },
    {
      "cell_type": "code",
      "source": [
        "regressor = Sequential()\n",
        "regressor.add(LSTM(units = 50, return_sequences= True, input_shape = (X_train.shape[1], 1)))\n",
        "regressor.add(Dropout (0.2))\n",
        "regressor.add(LSTM(units = 50, return_sequences= True))\n",
        "regressor.add(Dropout (0.2))\n",
        "regressor.add(LSTM(units = 50, return_sequences= True))\n",
        "regressor.add(Dropout (0.2))\n",
        "regressor.add(LSTM(units = 50))\n",
        "regressor. add(Dropout (0.2))\n",
        "regressor.add(Dense(units=1))"
      ],
      "metadata": {
        "id": "caNza00a0-za"
      },
      "execution_count": 15,
      "outputs": []
    },
    {
      "cell_type": "code",
      "source": [
        "regressor.compile(optimizer = 'adam', loss = 'mean_squared_error')\n",
        "regressor.fit(X_train, y_train, epochs=100, batch_size=32)"
      ],
      "metadata": {
        "colab": {
          "base_uri": "https://localhost:8080/"
        },
        "id": "fTEsytR31IDo",
        "outputId": "08de6611-a64f-4192-d44e-7fbaff36f3a1"
      },
      "execution_count": 16,
      "outputs": [
        {
          "output_type": "stream",
          "name": "stdout",
          "text": [
            "Epoch 1/100\n",
            "38/38 [==============================] - 16s 141ms/step - loss: 0.0408\n",
            "Epoch 2/100\n",
            "38/38 [==============================] - 6s 159ms/step - loss: 0.0069\n",
            "Epoch 3/100\n",
            "38/38 [==============================] - 5s 143ms/step - loss: 0.0063\n",
            "Epoch 4/100\n",
            "38/38 [==============================] - 7s 172ms/step - loss: 0.0052\n",
            "Epoch 5/100\n",
            "38/38 [==============================] - 5s 128ms/step - loss: 0.0052\n",
            "Epoch 6/100\n",
            "38/38 [==============================] - 6s 163ms/step - loss: 0.0057\n",
            "Epoch 7/100\n",
            "38/38 [==============================] - 5s 130ms/step - loss: 0.0049\n",
            "Epoch 8/100\n",
            "38/38 [==============================] - 6s 150ms/step - loss: 0.0046\n",
            "Epoch 9/100\n",
            "38/38 [==============================] - 7s 180ms/step - loss: 0.0045\n",
            "Epoch 10/100\n",
            "38/38 [==============================] - 5s 143ms/step - loss: 0.0049\n",
            "Epoch 11/100\n",
            "38/38 [==============================] - 6s 147ms/step - loss: 0.0043\n",
            "Epoch 12/100\n",
            "38/38 [==============================] - 5s 129ms/step - loss: 0.0042\n",
            "Epoch 13/100\n",
            "38/38 [==============================] - 6s 161ms/step - loss: 0.0039\n",
            "Epoch 14/100\n",
            "38/38 [==============================] - 5s 129ms/step - loss: 0.0039\n",
            "Epoch 15/100\n",
            "38/38 [==============================] - 6s 163ms/step - loss: 0.0038\n",
            "Epoch 16/100\n",
            "38/38 [==============================] - 5s 128ms/step - loss: 0.0038\n",
            "Epoch 17/100\n",
            "38/38 [==============================] - 5s 129ms/step - loss: 0.0037\n",
            "Epoch 18/100\n",
            "38/38 [==============================] - 6s 163ms/step - loss: 0.0037\n",
            "Epoch 19/100\n",
            "38/38 [==============================] - 5s 138ms/step - loss: 0.0032\n",
            "Epoch 20/100\n",
            "38/38 [==============================] - 6s 170ms/step - loss: 0.0031\n",
            "Epoch 21/100\n",
            "38/38 [==============================] - 5s 129ms/step - loss: 0.0038\n",
            "Epoch 22/100\n",
            "38/38 [==============================] - 6s 159ms/step - loss: 0.0033\n",
            "Epoch 23/100\n",
            "38/38 [==============================] - 5s 132ms/step - loss: 0.0035\n",
            "Epoch 24/100\n",
            "38/38 [==============================] - 5s 129ms/step - loss: 0.0034\n",
            "Epoch 25/100\n",
            "38/38 [==============================] - 7s 196ms/step - loss: 0.0036\n",
            "Epoch 26/100\n",
            "38/38 [==============================] - 5s 129ms/step - loss: 0.0029\n",
            "Epoch 27/100\n",
            "38/38 [==============================] - 6s 163ms/step - loss: 0.0032\n",
            "Epoch 28/100\n",
            "38/38 [==============================] - 5s 130ms/step - loss: 0.0032\n",
            "Epoch 29/100\n",
            "38/38 [==============================] - 6s 163ms/step - loss: 0.0031\n",
            "Epoch 30/100\n",
            "38/38 [==============================] - 5s 129ms/step - loss: 0.0033\n",
            "Epoch 31/100\n",
            "38/38 [==============================] - 5s 132ms/step - loss: 0.0029\n",
            "Epoch 32/100\n",
            "38/38 [==============================] - 6s 155ms/step - loss: 0.0030\n",
            "Epoch 33/100\n",
            "38/38 [==============================] - 5s 130ms/step - loss: 0.0025\n",
            "Epoch 34/100\n",
            "38/38 [==============================] - 6s 162ms/step - loss: 0.0030\n",
            "Epoch 35/100\n",
            "38/38 [==============================] - 5s 130ms/step - loss: 0.0030\n",
            "Epoch 36/100\n",
            "38/38 [==============================] - 6s 155ms/step - loss: 0.0028\n",
            "Epoch 37/100\n",
            "38/38 [==============================] - 5s 134ms/step - loss: 0.0030\n",
            "Epoch 38/100\n",
            "38/38 [==============================] - 5s 129ms/step - loss: 0.0029\n",
            "Epoch 39/100\n",
            "38/38 [==============================] - 6s 162ms/step - loss: 0.0027\n",
            "Epoch 40/100\n",
            "38/38 [==============================] - 5s 128ms/step - loss: 0.0025\n",
            "Epoch 41/100\n",
            "38/38 [==============================] - 8s 202ms/step - loss: 0.0027\n",
            "Epoch 42/100\n",
            "38/38 [==============================] - 5s 129ms/step - loss: 0.0025\n",
            "Epoch 43/100\n",
            "38/38 [==============================] - 5s 129ms/step - loss: 0.0027\n",
            "Epoch 44/100\n",
            "38/38 [==============================] - 6s 164ms/step - loss: 0.0029\n",
            "Epoch 45/100\n",
            "38/38 [==============================] - 5s 132ms/step - loss: 0.0030\n",
            "Epoch 46/100\n",
            "38/38 [==============================] - 6s 165ms/step - loss: 0.0026\n",
            "Epoch 47/100\n",
            "38/38 [==============================] - 5s 131ms/step - loss: 0.0025\n",
            "Epoch 48/100\n",
            "38/38 [==============================] - 6s 159ms/step - loss: 0.0025\n",
            "Epoch 49/100\n",
            "38/38 [==============================] - 5s 133ms/step - loss: 0.0023\n",
            "Epoch 50/100\n",
            "38/38 [==============================] - 5s 132ms/step - loss: 0.0024\n",
            "Epoch 51/100\n",
            "38/38 [==============================] - 6s 166ms/step - loss: 0.0025\n",
            "Epoch 52/100\n",
            "38/38 [==============================] - 5s 131ms/step - loss: 0.0021\n",
            "Epoch 53/100\n",
            "38/38 [==============================] - 8s 209ms/step - loss: 0.0023\n",
            "Epoch 54/100\n",
            "38/38 [==============================] - 6s 148ms/step - loss: 0.0023\n",
            "Epoch 55/100\n",
            "38/38 [==============================] - 8s 211ms/step - loss: 0.0020\n",
            "Epoch 56/100\n",
            "38/38 [==============================] - 10s 280ms/step - loss: 0.0023\n",
            "Epoch 57/100\n",
            "38/38 [==============================] - 11s 288ms/step - loss: 0.0020\n",
            "Epoch 58/100\n",
            "38/38 [==============================] - 7s 180ms/step - loss: 0.0023\n",
            "Epoch 59/100\n",
            "38/38 [==============================] - 8s 204ms/step - loss: 0.0022\n",
            "Epoch 60/100\n",
            "38/38 [==============================] - 6s 149ms/step - loss: 0.0020\n",
            "Epoch 61/100\n",
            "38/38 [==============================] - 5s 140ms/step - loss: 0.0019\n",
            "Epoch 62/100\n",
            "38/38 [==============================] - 6s 150ms/step - loss: 0.0022\n",
            "Epoch 63/100\n",
            "38/38 [==============================] - 5s 129ms/step - loss: 0.0018\n",
            "Epoch 64/100\n",
            "38/38 [==============================] - 6s 164ms/step - loss: 0.0023\n",
            "Epoch 65/100\n",
            "38/38 [==============================] - 5s 130ms/step - loss: 0.0020\n",
            "Epoch 66/100\n",
            "38/38 [==============================] - 6s 160ms/step - loss: 0.0022\n",
            "Epoch 67/100\n",
            "38/38 [==============================] - 6s 145ms/step - loss: 0.0019\n",
            "Epoch 68/100\n",
            "38/38 [==============================] - 6s 150ms/step - loss: 0.0018\n",
            "Epoch 69/100\n",
            "38/38 [==============================] - 6s 146ms/step - loss: 0.0019\n",
            "Epoch 70/100\n",
            "38/38 [==============================] - 5s 130ms/step - loss: 0.0019\n",
            "Epoch 71/100\n",
            "38/38 [==============================] - 12s 319ms/step - loss: 0.0019\n",
            "Epoch 72/100\n",
            "38/38 [==============================] - 11s 277ms/step - loss: 0.0021\n",
            "Epoch 73/100\n",
            "38/38 [==============================] - 7s 178ms/step - loss: 0.0019\n",
            "Epoch 74/100\n",
            "38/38 [==============================] - 5s 140ms/step - loss: 0.0018\n",
            "Epoch 75/100\n",
            "38/38 [==============================] - 5s 128ms/step - loss: 0.0019\n",
            "Epoch 76/100\n",
            "38/38 [==============================] - 8s 225ms/step - loss: 0.0018\n",
            "Epoch 77/100\n",
            "38/38 [==============================] - 5s 135ms/step - loss: 0.0017\n",
            "Epoch 78/100\n",
            "38/38 [==============================] - 9s 242ms/step - loss: 0.0018\n",
            "Epoch 79/100\n",
            "38/38 [==============================] - 5s 145ms/step - loss: 0.0019\n",
            "Epoch 80/100\n",
            "38/38 [==============================] - 6s 147ms/step - loss: 0.0017\n",
            "Epoch 81/100\n",
            "38/38 [==============================] - 5s 131ms/step - loss: 0.0018\n",
            "Epoch 82/100\n",
            "38/38 [==============================] - 6s 166ms/step - loss: 0.0014\n",
            "Epoch 83/100\n",
            "38/38 [==============================] - 5s 132ms/step - loss: 0.0018\n",
            "Epoch 84/100\n",
            "38/38 [==============================] - 6s 164ms/step - loss: 0.0015\n",
            "Epoch 85/100\n",
            "38/38 [==============================] - 5s 130ms/step - loss: 0.0018\n",
            "Epoch 86/100\n",
            "38/38 [==============================] - 5s 138ms/step - loss: 0.0016\n",
            "Epoch 87/100\n",
            "38/38 [==============================] - 7s 170ms/step - loss: 0.0019\n",
            "Epoch 88/100\n",
            "38/38 [==============================] - 6s 148ms/step - loss: 0.0017\n",
            "Epoch 89/100\n",
            "38/38 [==============================] - 6s 164ms/step - loss: 0.0016\n",
            "Epoch 90/100\n",
            "38/38 [==============================] - 5s 129ms/step - loss: 0.0014\n",
            "Epoch 91/100\n",
            "38/38 [==============================] - 6s 164ms/step - loss: 0.0016\n",
            "Epoch 92/100\n",
            "38/38 [==============================] - 5s 129ms/step - loss: 0.0015\n",
            "Epoch 93/100\n",
            "38/38 [==============================] - 6s 150ms/step - loss: 0.0016\n",
            "Epoch 94/100\n",
            "38/38 [==============================] - 6s 145ms/step - loss: 0.0015\n",
            "Epoch 95/100\n",
            "38/38 [==============================] - 5s 134ms/step - loss: 0.0016\n",
            "Epoch 96/100\n",
            "38/38 [==============================] - 8s 201ms/step - loss: 0.0016\n",
            "Epoch 97/100\n",
            "38/38 [==============================] - 5s 133ms/step - loss: 0.0014\n",
            "Epoch 98/100\n",
            "38/38 [==============================] - 6s 167ms/step - loss: 0.0015\n",
            "Epoch 99/100\n",
            "38/38 [==============================] - 5s 133ms/step - loss: 0.0016\n",
            "Epoch 100/100\n",
            "38/38 [==============================] - 6s 167ms/step - loss: 0.0014\n"
          ]
        },
        {
          "output_type": "execute_result",
          "data": {
            "text/plain": [
              "<keras.callbacks.History at 0x7fcb461ea1d0>"
            ]
          },
          "metadata": {},
          "execution_count": 16
        }
      ]
    },
    {
      "cell_type": "code",
      "source": [
        "dataset_test = pd.read_csv(\"Google_Stock_Price_Test.csv\")\n",
        "actual_stock_price = dataset_test.iloc[:, 1:2]. values"
      ],
      "metadata": {
        "id": "ce6J1cac1OC_"
      },
      "execution_count": 17,
      "outputs": []
    },
    {
      "cell_type": "code",
      "source": [
        "dataset_total = pd.concat((dataset_train['Open'], dataset_test['Open']), axis = 0)\n",
        "inputs = dataset_total[len (dataset_total) - len (dataset_test)-60:]. values\n",
        "inputs = inputs.reshape(-1,1)\n",
        "inputs = scaler.transform(inputs)\n",
        "X_test = []\n",
        "for i in range(60,80):\n",
        "  X_test.append(inputs[i-60:i, 0])\n",
        "X_test = np.array(X_test)\n",
        "X_test = np.reshape(X_test,(X_test.shape[0], X_test.shape[1],1))\n"
      ],
      "metadata": {
        "id": "IIy1hGtZ1xlm"
      },
      "execution_count": 24,
      "outputs": []
    },
    {
      "cell_type": "code",
      "source": [
        "predicted_stock_price = regressor.predict(X_test)\n",
        "predicted_stock_price = scaler.inverse_transform(predicted_stock_price)"
      ],
      "metadata": {
        "colab": {
          "base_uri": "https://localhost:8080/"
        },
        "id": "9s-VK9id2lls",
        "outputId": "4a135e22-bbf2-4cbe-f0be-28b9d2eeb3d0"
      },
      "execution_count": 25,
      "outputs": [
        {
          "output_type": "stream",
          "name": "stdout",
          "text": [
            "1/1 [==============================] - 2s 2s/step\n"
          ]
        }
      ]
    },
    {
      "cell_type": "code",
      "source": [
        "plt.plot (actual_stock_price, color = 'red', label = 'Actual Google Stock Price')\n",
        "plt.plot (predicted_stock_price, color = 'blue', label = 'Predicted Google Stock Price')\n",
        "plt.title('Google Stock Price Prediction')\n",
        "plt.xlabel('Time')\n",
        "plt.ylabel('Google Stock Price')\n",
        "plt.legend()"
      ],
      "metadata": {
        "colab": {
          "base_uri": "https://localhost:8080/",
          "height": 489
        },
        "id": "SbarMtx_2vy5",
        "outputId": "3de435cf-0ff5-41a3-efbd-3846c72c6378"
      },
      "execution_count": 26,
      "outputs": [
        {
          "output_type": "execute_result",
          "data": {
            "text/plain": [
              "<matplotlib.legend.Legend at 0x7fcb4698f820>"
            ]
          },
          "metadata": {},
          "execution_count": 26
        },
        {
          "output_type": "display_data",
          "data": {
            "text/plain": [
              "<Figure size 640x480 with 1 Axes>"
            ],
            "image/png": "[encoded data removed]"
          },
          "metadata": {}
        }
      ]
    }
  ]
}